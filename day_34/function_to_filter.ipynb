{
 "cells": [
  {
   "cell_type": "code",
   "execution_count": 1,
   "id": "42abd4ae-0eb6-4d62-90a5-cb4ee32849b3",
   "metadata": {},
   "outputs": [
    {
     "name": "stdout",
     "output_type": "stream",
     "text": [
      "Lena is an adult member.\n",
      "Nina is an adult member.\n"
     ]
    }
   ],
   "source": [
    "# Customer data\n",
    "customers = [\n",
    "    {\"name\": \"Lena\", \"age\": 30, \"member\": True},\n",
    "    {\"name\": \"Tom\", \"age\": 20, \"member\": False},\n",
    "    {\"name\": \"Nina\", \"age\": 25, \"member\": True}\n",
    "]\n",
    "\n",
    "# Function to return adult members\n",
    "def filter_adult_members(data):\n",
    "    return [cust for cust in data if cust[\"age\"] >= 18 and cust[\"member\"]]\n",
    "\n",
    "# Print results\n",
    "results = filter_adult_members(customers)\n",
    "for person in results:\n",
    "    print(f\"{person['name']} is an adult member.\")\n"
   ]
  },
  {
   "cell_type": "code",
   "execution_count": null,
   "id": "a49a6a65-e9b3-47c1-becd-6d3b04a898cc",
   "metadata": {},
   "outputs": [],
   "source": []
  }
 ],
 "metadata": {
  "kernelspec": {
   "display_name": "Python [conda env:base] *",
   "language": "python",
   "name": "conda-base-py"
  },
  "language_info": {
   "codemirror_mode": {
    "name": "ipython",
    "version": 3
   },
   "file_extension": ".py",
   "mimetype": "text/x-python",
   "name": "python",
   "nbconvert_exporter": "python",
   "pygments_lexer": "ipython3",
   "version": "3.12.7"
  }
 },
 "nbformat": 4,
 "nbformat_minor": 5
}
