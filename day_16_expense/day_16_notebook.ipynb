{
 "cells": [
  {
   "cell_type": "code",
   "execution_count": 1,
   "id": "eb1f2f17-0d59-4c37-aaeb-cb44d59a2502",
   "metadata": {},
   "outputs": [
    {
     "name": "stdin",
     "output_type": "stream",
     "text": [
      "How much did you spend on food this week? $ 100\n",
      "How much did you spend on gas this week? $ 50\n",
      "How much did you spend on entertainment this week? $ 150\n"
     ]
    },
    {
     "name": "stdout",
     "output_type": "stream",
     "text": [
      "\n",
      "Your total weekly expenses are: $300.00\n",
      "You're over budget! Time to cut back.\n"
     ]
    }
   ],
   "source": [
    "# Ask the user for expense inputs\n",
    "food = float(input(\"How much did you spend on food this week? $\"))\n",
    "gas = float(input(\"How much did you spend on gas this week? $\"))\n",
    "entertainment = float(input(\"How much did you spend on entertainment this week? $\"))\n",
    "\n",
    "# Add up the total\n",
    "total = food + gas + entertainment\n",
    "\n",
    "# Display the result\n",
    "print(f\"\\nYour total weekly expenses are: ${total:.2f}\")\n",
    "\n",
    "# Optional: check if it's over budget\n",
    "budget = 200  # you can adjust this\n",
    "if total > budget:\n",
    "    print(\"You're over budget! Time to cut back.\")\n",
    "else:\n",
    "    print(\"Nice job! You're staying within your budget.\")\n"
   ]
  },
  {
   "cell_type": "code",
   "execution_count": null,
   "id": "f5f4a7f5-a9fa-4573-b1d6-23de4b4897aa",
   "metadata": {},
   "outputs": [],
   "source": []
  }
 ],
 "metadata": {
  "kernelspec": {
   "display_name": "Python [conda env:base] *",
   "language": "python",
   "name": "conda-base-py"
  },
  "language_info": {
   "codemirror_mode": {
    "name": "ipython",
    "version": 3
   },
   "file_extension": ".py",
   "mimetype": "text/x-python",
   "name": "python",
   "nbconvert_exporter": "python",
   "pygments_lexer": "ipython3",
   "version": "3.12.7"
  }
 },
 "nbformat": 4,
 "nbformat_minor": 5
}
