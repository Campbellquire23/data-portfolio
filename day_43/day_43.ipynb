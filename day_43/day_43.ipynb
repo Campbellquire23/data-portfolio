{
 "cells": [
  {
   "cell_type": "code",
   "execution_count": 1,
   "id": "5d2c674a-6555-407a-9b3d-935e00600e4c",
   "metadata": {},
   "outputs": [
    {
     "name": "stdout",
     "output_type": "stream",
     "text": [
      "Total sales: $1300\n",
      "Average sales: $325.00\n"
     ]
    }
   ],
   "source": [
    "# Function to return total and average\n",
    "def sales_summary(sales_list):\n",
    "    total = sum(sales_list)\n",
    "    average = total / len(sales_list)\n",
    "    return total, average\n",
    "\n",
    "# Sample data\n",
    "sales = [300, 250, 400, 350]\n",
    "\n",
    "# Get the summary\n",
    "total, average = sales_summary(sales)\n",
    "print(f\"Total sales: ${total}\")\n",
    "print(f\"Average sales: ${average:.2f}\")\n"
   ]
  },
  {
   "cell_type": "code",
   "execution_count": null,
   "id": "b323d1b8-0adf-4b4d-84a2-4d47bd21ea5c",
   "metadata": {},
   "outputs": [],
   "source": []
  }
 ],
 "metadata": {
  "kernelspec": {
   "display_name": "Python [conda env:base] *",
   "language": "python",
   "name": "conda-base-py"
  },
  "language_info": {
   "codemirror_mode": {
    "name": "ipython",
    "version": 3
   },
   "file_extension": ".py",
   "mimetype": "text/x-python",
   "name": "python",
   "nbconvert_exporter": "python",
   "pygments_lexer": "ipython3",
   "version": "3.12.7"
  }
 },
 "nbformat": 4,
 "nbformat_minor": 5
}
