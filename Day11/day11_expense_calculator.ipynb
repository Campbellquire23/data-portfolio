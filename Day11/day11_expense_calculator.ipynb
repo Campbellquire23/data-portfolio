{
 "cells": [
  {
   "cell_type": "code",
   "execution_count": null,
   "id": "f8fa0fb8-440a-4850-9d08-9304140d206a",
   "metadata": {},
   "outputs": [],
   "source": []
  }
 ],
 "metadata": {
  "kernelspec": {
   "display_name": "",
   "name": ""
  },
  "language_info": {
   "name": ""
  }
 },
 "nbformat": 4,
 "nbformat_minor": 5
}
