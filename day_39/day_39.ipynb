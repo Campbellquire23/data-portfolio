{
 "cells": [
  {
   "cell_type": "code",
   "execution_count": 1,
   "id": "5adf5fda-f09e-4521-a4c3-3ad892f6471f",
   "metadata": {},
   "outputs": [
    {
     "name": "stdout",
     "output_type": "stream",
     "text": [
      "\n",
      "--- Order Summary ---\n",
      "Mouse: 5\n",
      "Keyboard: 1\n"
     ]
    }
   ],
   "source": [
    "from collections import Counter\n",
    "\n",
    "orders = [\n",
    "    {\"item\": \"Mouse\", \"qty\": 2},\n",
    "    {\"item\": \"Keyboard\", \"qty\": 1},\n",
    "    {\"item\": \"Mouse\", \"qty\": 3}\n",
    "]\n",
    "\n",
    "# Build a flat list with repeated items\n",
    "all_items = []\n",
    "for order in orders:\n",
    "    all_items.extend([order[\"item\"]] * order[\"qty\"])\n",
    "\n",
    "# Use Counter to summarize\n",
    "summary = Counter(all_items)\n",
    "\n",
    "# Print results\n",
    "print(\"\\n--- Order Summary ---\")\n",
    "for item, count in summary.items():\n",
    "    print(f\"{item}: {count}\")\n"
   ]
  },
  {
   "cell_type": "code",
   "execution_count": null,
   "id": "91203786-f8d8-48c5-a683-2e425555fcd5",
   "metadata": {},
   "outputs": [],
   "source": []
  }
 ],
 "metadata": {
  "kernelspec": {
   "display_name": "Python [conda env:base] *",
   "language": "python",
   "name": "conda-base-py"
  },
  "language_info": {
   "codemirror_mode": {
    "name": "ipython",
    "version": 3
   },
   "file_extension": ".py",
   "mimetype": "text/x-python",
   "name": "python",
   "nbconvert_exporter": "python",
   "pygments_lexer": "ipython3",
   "version": "3.12.7"
  }
 },
 "nbformat": 4,
 "nbformat_minor": 5
}
