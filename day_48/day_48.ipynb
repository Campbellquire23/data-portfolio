{
 "cells": [
  {
   "cell_type": "code",
   "execution_count": 1,
   "id": "0c7478c0-3c7f-46de-8389-59ceb8481f90",
   "metadata": {},
   "outputs": [
    {
     "name": "stdout",
     "output_type": "stream",
     "text": [
      "Jordan: $900\n",
      "Avery: ⚠️ Invalid sales data\n",
      "Riley: $1210\n",
      "Sam: ⚠️ Invalid sales data\n"
     ]
    }
   ],
   "source": [
    "# Sales summary list with some issues\n",
    "summaries = [\n",
    "    {\"name\": \"Jordan\", \"total\": 900},\n",
    "    {\"name\": \"Avery\", \"total\": None},\n",
    "    {\"name\": \"Riley\", \"total\": 1210},\n",
    "    {\"name\": \"Sam\", \"total\": \"error\"}\n",
    "]\n",
    "\n",
    "# Flag bad data\n",
    "for summary in summaries:\n",
    "    name = summary[\"name\"]\n",
    "    total = summary[\"total\"]\n",
    "    if isinstance(total, (int, float)):\n",
    "        print(f\"{name}: ${total}\")\n",
    "    else:\n",
    "        print(f\"{name}: ⚠️ Invalid sales data\")\n"
   ]
  },
  {
   "cell_type": "code",
   "execution_count": null,
   "id": "01be3b65-7e81-46f0-a36f-fdd13c985621",
   "metadata": {},
   "outputs": [],
   "source": []
  }
 ],
 "metadata": {
  "kernelspec": {
   "display_name": "Python [conda env:base] *",
   "language": "python",
   "name": "conda-base-py"
  },
  "language_info": {
   "codemirror_mode": {
    "name": "ipython",
    "version": 3
   },
   "file_extension": ".py",
   "mimetype": "text/x-python",
   "name": "python",
   "nbconvert_exporter": "python",
   "pygments_lexer": "ipython3",
   "version": "3.12.7"
  }
 },
 "nbformat": 4,
 "nbformat_minor": 5
}
