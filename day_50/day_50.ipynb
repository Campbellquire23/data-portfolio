{
 "cells": [
  {
   "cell_type": "code",
   "execution_count": 1,
   "id": "912c1968-f565-4cfc-89ce-3a9af9a9246b",
   "metadata": {},
   "outputs": [
    {
     "name": "stdout",
     "output_type": "stream",
     "text": [
      "Cleaned Sales Data:\n",
      "{'name': 'Jordan', 'total': 900}\n",
      "{'name': 'Riley', 'total': 1210}\n"
     ]
    }
   ],
   "source": [
    "# Messy sales data with missing keys\n",
    "raw_data = [\n",
    "    {\"name\": \"Jordan\", \"total\": 900},\n",
    "    {\"name\": \"Avery\"},  # Missing total\n",
    "    {\"name\": \"Riley\", \"total\": 1210},\n",
    "    {\"total\": 800},     # Missing name\n",
    "    {\"name\": \"Lena\", \"total\": \"error\"}\n",
    "]\n",
    "\n",
    "# Clean entries only if both name and valid total exist\n",
    "cleaned_data = []\n",
    "for entry in raw_data:\n",
    "    name = entry.get(\"name\")\n",
    "    total = entry.get(\"total\")\n",
    "    if name and isinstance(total, (int, float)):\n",
    "        cleaned_data.append({\"name\": name, \"total\": total})\n",
    "\n",
    "# Print result\n",
    "print(\"Cleaned Sales Data:\")\n",
    "for entry in cleaned_data:\n",
    "    print(entry)\n"
   ]
  },
  {
   "cell_type": "code",
   "execution_count": null,
   "id": "2c3ef0b3-671a-4e34-b367-cce96f76ef97",
   "metadata": {},
   "outputs": [],
   "source": []
  }
 ],
 "metadata": {
  "kernelspec": {
   "display_name": "Python [conda env:base] *",
   "language": "python",
   "name": "conda-base-py"
  },
  "language_info": {
   "codemirror_mode": {
    "name": "ipython",
    "version": 3
   },
   "file_extension": ".py",
   "mimetype": "text/x-python",
   "name": "python",
   "nbconvert_exporter": "python",
   "pygments_lexer": "ipython3",
   "version": "3.12.7"
  }
 },
 "nbformat": 4,
 "nbformat_minor": 5
}
