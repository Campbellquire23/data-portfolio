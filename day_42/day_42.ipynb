{
 "cells": [
  {
   "cell_type": "code",
   "execution_count": 1,
   "id": "63e86b9a-b628-4bbb-92c7-1cb70fe92af1",
   "metadata": {},
   "outputs": [
    {
     "name": "stdout",
     "output_type": "stream",
     "text": [
      "Alex made $530 total, averaging $176.67 per week.\n",
      "Jamie made $390 total, averaging $130.00 per week.\n",
      "Morgan made $590 total, averaging $295.00 per week.\n"
     ]
    }
   ],
   "source": [
    "# Weekly sales data by employee\n",
    "sales_data = {\n",
    "    \"Alex\": [200, 150, 180],\n",
    "    \"Jamie\": [120, 130, 140],\n",
    "    \"Morgan\": [300, 290]\n",
    "}\n",
    "\n",
    "# Print totals and averages\n",
    "for person, sales in sales_data.items():\n",
    "    total = sum(sales)\n",
    "    average = total / len(sales)\n",
    "    print(f\"{person} made ${total} total, averaging ${average:.2f} per week.\")"
   ]
  },
  {
   "cell_type": "code",
   "execution_count": null,
   "id": "dbedfa5e-a2b7-4f87-b973-6663371acc44",
   "metadata": {},
   "outputs": [],
   "source": []
  }
 ],
 "metadata": {
  "kernelspec": {
   "display_name": "Python [conda env:base] *",
   "language": "python",
   "name": "conda-base-py"
  },
  "language_info": {
   "codemirror_mode": {
    "name": "ipython",
    "version": 3
   },
   "file_extension": ".py",
   "mimetype": "text/x-python",
   "name": "python",
   "nbconvert_exporter": "python",
   "pygments_lexer": "ipython3",
   "version": "3.12.7"
  }
 },
 "nbformat": 4,
 "nbformat_minor": 5
}
