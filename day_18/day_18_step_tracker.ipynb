{
 "cells": [
  {
   "cell_type": "code",
   "execution_count": 1,
   "id": "d1ec18ba-5e97-4530-be1b-8c92c64d63dd",
   "metadata": {},
   "outputs": [
    {
     "name": "stdout",
     "output_type": "stream",
     "text": [
      "Your steps this week:\n",
      "6234\n",
      "7890\n",
      "10123\n",
      "9400\n",
      "6789\n",
      "12000\n",
      "8500\n",
      "\n",
      "Total steps: 60936\n",
      "Average steps per day: 8705\n"
     ]
    }
   ],
   "source": [
    "# Daily step count for the week\n",
    "steps = [6234, 7890, 10123, 9400, 6789, 12000, 8500]\n",
    "\n",
    "# Print all step values\n",
    "print(\"Your steps this week:\")\n",
    "for count in steps:\n",
    "    print(count)\n",
    "\n",
    "# Calculate total and average\n",
    "total = sum(steps)\n",
    "average = total / len(steps)\n",
    "\n",
    "# Show results\n",
    "print(f\"\\nTotal steps: {total}\")\n",
    "print(f\"Average steps per day: {average:.0f}\")\n"
   ]
  },
  {
   "cell_type": "code",
   "execution_count": null,
   "id": "374d3a2d-7bd5-4032-b38d-692d529e8a67",
   "metadata": {},
   "outputs": [],
   "source": []
  }
 ],
 "metadata": {
  "kernelspec": {
   "display_name": "Python [conda env:base] *",
   "language": "python",
   "name": "conda-base-py"
  },
  "language_info": {
   "codemirror_mode": {
    "name": "ipython",
    "version": 3
   },
   "file_extension": ".py",
   "mimetype": "text/x-python",
   "name": "python",
   "nbconvert_exporter": "python",
   "pygments_lexer": "ipython3",
   "version": "3.12.7"
  }
 },
 "nbformat": 4,
 "nbformat_minor": 5
}
