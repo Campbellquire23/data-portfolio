{
 "cells": [
  {
   "cell_type": "code",
   "execution_count": 1,
   "id": "c19e97e3-cdb8-489b-b3b9-1ba3be0a8351",
   "metadata": {},
   "outputs": [
    {
     "name": "stdout",
     "output_type": "stream",
     "text": [
      "Age 23: Adult\n",
      "Age 45: Adult\n",
      "Age 31: Adult\n",
      "Age 19: Underage\n",
      "Age 60: Adult\n",
      "Age 37: Adult\n"
     ]
    }
   ],
   "source": [
    "# List of ages\n",
    "ages = [23, 45, 31, 19, 60, 37]\n",
    "\n",
    "# Loop through ages and check if 21 or older\n",
    "for age in ages:\n",
    "    if age >= 21:\n",
    "        print(f\"Age {age}: Adult\")\n",
    "    else:\n",
    "        print(f\"Age {age}: Underage\")\n"
   ]
  },
  {
   "cell_type": "code",
   "execution_count": null,
   "id": "7648f765-8f78-489f-af2d-b8d77524c5bc",
   "metadata": {},
   "outputs": [],
   "source": []
  }
 ],
 "metadata": {
  "kernelspec": {
   "display_name": "Python [conda env:base] *",
   "language": "python",
   "name": "conda-base-py"
  },
  "language_info": {
   "codemirror_mode": {
    "name": "ipython",
    "version": 3
   },
   "file_extension": ".py",
   "mimetype": "text/x-python",
   "name": "python",
   "nbconvert_exporter": "python",
   "pygments_lexer": "ipython3",
   "version": "3.12.7"
  }
 },
 "nbformat": 4,
 "nbformat_minor": 5
}
