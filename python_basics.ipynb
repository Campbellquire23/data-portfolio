{
 "cells": [
  {
   "cell_type": "code",
   "execution_count": null,
   "id": "06edfdc0-35d5-4b34-a72e-a7006500dd6f",
   "metadata": {},
   "outputs": [],
   "source": [
    "print(\"Hello, Data World!\")\n"
   ]
  }
 ],
 "metadata": {
  "kernelspec": {
   "display_name": "Python [conda env:base] *",
   "language": "python",
   "name": "conda-base-py"
  },
  "language_info": {
   "codemirror_mode": {
    "name": "ipython",
    "version": 3
   },
   "file_extension": ".py",
   "mimetype": "text/x-python",
   "name": "python",
   "nbconvert_exporter": "python",
   "pygments_lexer": "ipython3",
   "version": "3.12.7"
  }
 },
 "nbformat": 4,
 "nbformat_minor": 5
}
