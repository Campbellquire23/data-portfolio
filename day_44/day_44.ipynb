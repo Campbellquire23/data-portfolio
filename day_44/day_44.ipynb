{
 "cells": [
  {
   "cell_type": "code",
   "execution_count": 1,
   "id": "1a413b5e-aa04-4d87-ae44-a11eb57df0e3",
   "metadata": {},
   "outputs": [
    {
     "name": "stdout",
     "output_type": "stream",
     "text": [
      "Alex's total sales: $630\n",
      "Alex's average weekly sales: $210.00\n",
      "Jamie's total sales: $480\n",
      "Jamie's average weekly sales: $160.00\n"
     ]
    }
   ],
   "source": [
    "def sales_summary(name, sales):\n",
    "    total = sum(sales)\n",
    "    average = total / len(sales)\n",
    "    print(f\"{name}'s total sales: ${total}\")\n",
    "    print(f\"{name}'s average weekly sales: ${average:.2f}\")\n",
    "\n",
    "# Try it for multiple people\n",
    "sales_summary(\"Alex\", [200, 220, 210])\n",
    "sales_summary(\"Jamie\", [150, 160, 170])\n"
   ]
  },
  {
   "cell_type": "code",
   "execution_count": null,
   "id": "cc41b255-ba61-45b0-8bf9-479bbd0f81db",
   "metadata": {},
   "outputs": [],
   "source": []
  }
 ],
 "metadata": {
  "kernelspec": {
   "display_name": "Python [conda env:base] *",
   "language": "python",
   "name": "conda-base-py"
  },
  "language_info": {
   "codemirror_mode": {
    "name": "ipython",
    "version": 3
   },
   "file_extension": ".py",
   "mimetype": "text/x-python",
   "name": "python",
   "nbconvert_exporter": "python",
   "pygments_lexer": "ipython3",
   "version": "3.12.7"
  }
 },
 "nbformat": 4,
 "nbformat_minor": 5
}
