{
 "cells": [
  {
   "cell_type": "code",
   "execution_count": 1,
   "id": "ce7a2b67-cb83-4d91-a5ed-ff23fb2891ea",
   "metadata": {},
   "outputs": [
    {
     "name": "stdout",
     "output_type": "stream",
     "text": [
      "Contact Info:\n",
      "Name: Jordan\n",
      "Email: jordan@example.com\n",
      "Phone: 555-1234\n"
     ]
    }
   ],
   "source": [
    "# Create a dictionary for a contact\n",
    "contact = {\n",
    "    \"name\": \"Jordan\",\n",
    "    \"email\": \"jordan@example.com\",\n",
    "    \"phone\": \"555-1234\"\n",
    "}\n",
    "\n",
    "# Print each item in a friendly format\n",
    "print(\"Contact Info:\")\n",
    "print(f\"Name: {contact['name']}\")\n",
    "print(f\"Email: {contact['email']}\")\n",
    "print(f\"Phone: {contact['phone']}\")\n"
   ]
  },
  {
   "cell_type": "code",
   "execution_count": null,
   "id": "f9d96af5-edbb-4842-87de-256d9c37bb82",
   "metadata": {},
   "outputs": [],
   "source": []
  }
 ],
 "metadata": {
  "kernelspec": {
   "display_name": "Python [conda env:base] *",
   "language": "python",
   "name": "conda-base-py"
  },
  "language_info": {
   "codemirror_mode": {
    "name": "ipython",
    "version": 3
   },
   "file_extension": ".py",
   "mimetype": "text/x-python",
   "name": "python",
   "nbconvert_exporter": "python",
   "pygments_lexer": "ipython3",
   "version": "3.12.7"
  }
 },
 "nbformat": 4,
 "nbformat_minor": 5
}
