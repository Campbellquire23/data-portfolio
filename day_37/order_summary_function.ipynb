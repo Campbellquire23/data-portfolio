{
 "cells": [
  {
   "cell_type": "code",
   "execution_count": 1,
   "id": "d892b04e-debd-4cc9-83ad-a48e80c09876",
   "metadata": {},
   "outputs": [
    {
     "name": "stdout",
     "output_type": "stream",
     "text": [
      "Backpack: 3\n",
      "Notebook: 5\n"
     ]
    }
   ],
   "source": [
    "def summarize_orders(order_list):\n",
    "    summary = {}\n",
    "    for order in order_list:\n",
    "        item = order[\"item\"]\n",
    "        qty = order[\"qty\"]\n",
    "        summary[item] = summary.get(item, 0) + qty\n",
    "    return summary\n",
    "\n",
    "# Sample order list\n",
    "orders = [\n",
    "    {\"item\": \"Backpack\", \"qty\": 2},\n",
    "    {\"item\": \"Notebook\", \"qty\": 5},\n",
    "    {\"item\": \"Backpack\", \"qty\": 1}\n",
    "]\n",
    "\n",
    "# Call the function and print results\n",
    "summary = summarize_orders(orders)\n",
    "for item, qty in summary.items():\n",
    "    print(f\"{item}: {qty}\")\n"
   ]
  },
  {
   "cell_type": "code",
   "execution_count": null,
   "id": "d6e4dc56-657d-45a1-9fdf-2433147131af",
   "metadata": {},
   "outputs": [],
   "source": []
  }
 ],
 "metadata": {
  "kernelspec": {
   "display_name": "Python [conda env:base] *",
   "language": "python",
   "name": "conda-base-py"
  },
  "language_info": {
   "codemirror_mode": {
    "name": "ipython",
    "version": 3
   },
   "file_extension": ".py",
   "mimetype": "text/x-python",
   "name": "python",
   "nbconvert_exporter": "python",
   "pygments_lexer": "ipython3",
   "version": "3.12.7"
  }
 },
 "nbformat": 4,
 "nbformat_minor": 5
}
