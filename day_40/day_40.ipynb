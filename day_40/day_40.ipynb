{
 "cells": [
  {
   "cell_type": "code",
   "execution_count": 1,
   "id": "0185212d-8782-408e-ba86-71c2c3ffa6fb",
   "metadata": {},
   "outputs": [
    {
     "name": "stdout",
     "output_type": "stream",
     "text": [
      "\n",
      "Website Redesign:\n",
      " - Alice\n",
      " - Tom\n",
      " - Lena\n",
      "\n",
      "Data Cleanup:\n",
      " - Ben\n",
      "   ⚠️ Solo assignment\n",
      "\n",
      "App Launch:\n",
      " - Jamie\n",
      " - Nina\n"
     ]
    }
   ],
   "source": [
    "projects = {\n",
    "    \"Website Redesign\": [\"Alice\", \"Tom\", \"Lena\"],\n",
    "    \"Data Cleanup\": [\"Ben\"],\n",
    "    \"App Launch\": [\"Jamie\", \"Nina\"]\n",
    "}\n",
    "\n",
    "# Print project assignments, mark solo workers\n",
    "for project, team in projects.items():\n",
    "    print(f\"\\n{project}:\")\n",
    "    for person in team:\n",
    "        print(f\" - {person}\")\n",
    "    if len(team) == 1:\n",
    "        print(\"   ⚠️ Solo assignment\")\n"
   ]
  }
 ],
 "metadata": {
  "kernelspec": {
   "display_name": "Python [conda env:base] *",
   "language": "python",
   "name": "conda-base-py"
  },
  "language_info": {
   "codemirror_mode": {
    "name": "ipython",
    "version": 3
   },
   "file_extension": ".py",
   "mimetype": "text/x-python",
   "name": "python",
   "nbconvert_exporter": "python",
   "pygments_lexer": "ipython3",
   "version": "3.12.7"
  }
 },
 "nbformat": 4,
 "nbformat_minor": 5
}
