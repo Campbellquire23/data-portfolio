{
 "cells": [
  {
   "cell_type": "code",
   "execution_count": 1,
   "id": "89540244-a12c-4ee4-b64d-8d633ebcc6f1",
   "metadata": {},
   "outputs": [
    {
     "name": "stdout",
     "output_type": "stream",
     "text": [
      "\n",
      "--- Office Equipment Summary ---\n",
      "Monitor: 3\n",
      "Keyboard: 3\n"
     ]
    }
   ],
   "source": [
    "def summarize_orders(order_list, label=\"Item\"):\n",
    "    summary = {}\n",
    "    for order in order_list:\n",
    "        item = order[\"item\"]\n",
    "        qty = order[\"qty\"]\n",
    "        summary[item] = summary.get(item, 0) + qty\n",
    "    print(f\"\\n--- {label} Summary ---\")\n",
    "    for item, qty in summary.items():\n",
    "        print(f\"{item}: {qty}\")\n",
    "\n",
    "# Sample input\n",
    "orders = [\n",
    "    {\"item\": \"Monitor\", \"qty\": 2},\n",
    "    {\"item\": \"Keyboard\", \"qty\": 3},\n",
    "    {\"item\": \"Monitor\", \"qty\": 1}\n",
    "]\n",
    "\n",
    "# Run it\n",
    "summarize_orders(orders, label=\"Office Equipment\")\n"
   ]
  },
  {
   "cell_type": "code",
   "execution_count": null,
   "id": "0f80d334-071a-482b-8bce-47228ffd8f23",
   "metadata": {},
   "outputs": [],
   "source": []
  }
 ],
 "metadata": {
  "kernelspec": {
   "display_name": "Python [conda env:base] *",
   "language": "python",
   "name": "conda-base-py"
  },
  "language_info": {
   "codemirror_mode": {
    "name": "ipython",
    "version": 3
   },
   "file_extension": ".py",
   "mimetype": "text/x-python",
   "name": "python",
   "nbconvert_exporter": "python",
   "pygments_lexer": "ipython3",
   "version": "3.12.7"
  }
 },
 "nbformat": 4,
 "nbformat_minor": 5
}
