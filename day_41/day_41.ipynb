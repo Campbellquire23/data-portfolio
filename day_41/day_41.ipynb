{
 "cells": [
  {
   "cell_type": "code",
   "execution_count": 1,
   "id": "d2205205-a0f0-4bc4-a30e-5b1b5a7b3b37",
   "metadata": {},
   "outputs": [
    {
     "name": "stdout",
     "output_type": "stream",
     "text": [
      "Alex made $530 in total sales.\n",
      "Jamie made $390 in total sales.\n",
      "Morgan made $590 in total sales.\n"
     ]
    }
   ],
   "source": [
    "# Weekly sales by employee\n",
    "sales_data = {\n",
    "    \"Alex\": [200, 150, 180],\n",
    "    \"Jamie\": [120, 130, 140],\n",
    "    \"Morgan\": [300, 290]\n",
    "}\n",
    "\n",
    "# Print totals\n",
    "for person, sales in sales_data.items():\n",
    "    total = sum(sales)\n",
    "    print(f\"{person} made ${total} in total sales.\")\n"
   ]
  },
  {
   "cell_type": "code",
   "execution_count": null,
   "id": "dbe17241-5bea-405a-a4a2-3a96545b6801",
   "metadata": {},
   "outputs": [],
   "source": []
  }
 ],
 "metadata": {
  "kernelspec": {
   "display_name": "Python [conda env:base] *",
   "language": "python",
   "name": "conda-base-py"
  },
  "language_info": {
   "codemirror_mode": {
    "name": "ipython",
    "version": 3
   },
   "file_extension": ".py",
   "mimetype": "text/x-python",
   "name": "python",
   "nbconvert_exporter": "python",
   "pygments_lexer": "ipython3",
   "version": "3.12.7"
  }
 },
 "nbformat": 4,
 "nbformat_minor": 5
}
