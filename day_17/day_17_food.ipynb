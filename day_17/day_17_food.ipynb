{
 "cells": [
  {
   "cell_type": "code",
   "execution_count": 1,
   "id": "faa181da-ac31-432f-81bd-8ee8d5b24e11",
   "metadata": {},
   "outputs": [
    {
     "name": "stdout",
     "output_type": "stream",
     "text": [
      "I love Tacos!\n",
      "I love Pizza!\n",
      "I love Chicken Alfredo!\n",
      "\n",
      "Updated list of meals:\n",
      "['Tacos', 'Pizza', 'Chicken Alfredo', 'Burgers']\n"
     ]
    }
   ],
   "source": [
    "# Make a list of your top 3 favorite meals\n",
    "meals = [\"Tacos\", \"Pizza\", \"Chicken Alfredo\"]\n",
    "\n",
    "# Print each meal one by one\n",
    "for meal in meals:\n",
    "    print(f\"I love {meal}!\")\n",
    "\n",
    "# Add a new meal to the list\n",
    "meals.append(\"Burgers\")\n",
    "\n",
    "# Print the updated list\n",
    "print(\"\\nUpdated list of meals:\")\n",
    "print(meals)\n"
   ]
  },
  {
   "cell_type": "code",
   "execution_count": null,
   "id": "00aa584f-7475-4e27-96ce-3fc927dc6b12",
   "metadata": {},
   "outputs": [],
   "source": []
  }
 ],
 "metadata": {
  "kernelspec": {
   "display_name": "Python [conda env:base] *",
   "language": "python",
   "name": "conda-base-py"
  },
  "language_info": {
   "codemirror_mode": {
    "name": "ipython",
    "version": 3
   },
   "file_extension": ".py",
   "mimetype": "text/x-python",
   "name": "python",
   "nbconvert_exporter": "python",
   "pygments_lexer": "ipython3",
   "version": "3.12.7"
  }
 },
 "nbformat": 4,
 "nbformat_minor": 5
}
