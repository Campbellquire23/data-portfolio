{
 "cells": [
  {
   "cell_type": "code",
   "execution_count": 1,
   "id": "a1047e87-de60-4e78-8271-b10af2d58d16",
   "metadata": {},
   "outputs": [
    {
     "name": "stdout",
     "output_type": "stream",
     "text": [
      "Contact:\n",
      "  Name: Alex\n",
      "  Email: alex@example.com\n",
      "--------------\n",
      "Contact:\n",
      "  Name: Sam\n",
      "  Email: sam@example.com\n",
      "--------------\n",
      "Contact:\n",
      "  Name: Jamie\n",
      "  Email: jamie@example.com\n",
      "--------------\n"
     ]
    }
   ],
   "source": [
    "# List of multiple contacts\n",
    "contacts = [\n",
    "    {\"name\": \"Alex\", \"email\": \"alex@example.com\"},\n",
    "    {\"name\": \"Sam\", \"email\": \"sam@example.com\"},\n",
    "    {\"name\": \"Jamie\", \"email\": \"jamie@example.com\"}\n",
    "]\n",
    "\n",
    "# Loop through and print each contact\n",
    "for contact in contacts:\n",
    "    print(\"Contact:\")\n",
    "    print(f\"  Name: {contact['name']}\")\n",
    "    print(f\"  Email: {contact['email']}\")\n",
    "    print(\"--------------\")\n"
   ]
  },
  {
   "cell_type": "code",
   "execution_count": null,
   "id": "866f4431-5eee-490c-a7a0-ec03fb6e0904",
   "metadata": {},
   "outputs": [],
   "source": []
  }
 ],
 "metadata": {
  "kernelspec": {
   "display_name": "Python [conda env:base] *",
   "language": "python",
   "name": "conda-base-py"
  },
  "language_info": {
   "codemirror_mode": {
    "name": "ipython",
    "version": 3
   },
   "file_extension": ".py",
   "mimetype": "text/x-python",
   "name": "python",
   "nbconvert_exporter": "python",
   "pygments_lexer": "ipython3",
   "version": "3.12.7"
  }
 },
 "nbformat": 4,
 "nbformat_minor": 5
}
