{
 "cells": [
  {
   "cell_type": "code",
   "execution_count": 3,
   "id": "79e3be42-e749-4bd1-9380-781b2cb9f458",
   "metadata": {},
   "outputs": [
    {
     "name": "stdin",
     "output_type": "stream",
     "text": [
      "Enter a number:  3\n"
     ]
    },
    {
     "name": "stdout",
     "output_type": "stream",
     "text": [
      "That’s an odd number!\n"
     ]
    }
   ],
   "source": [
    "# Ask the user for a number\n",
    "number = int(input(\"Enter a number: \"))\n",
    "\n",
    "# Check if it's even or odd\n",
    "if number % 2 == 0:\n",
    "    print(\"That’s an even number!\")\n",
    "else:\n",
    "    print(\"That’s an odd number!\")\n"
   ]
  },
  {
   "cell_type": "code",
   "execution_count": 2,
   "id": "bc910314-6388-42d7-9449-fcfbe0faa3ad",
   "metadata": {},
   "outputs": [
    {
     "name": "stdin",
     "output_type": "stream",
     "text": [
      "Enter another number:  31\n"
     ]
    },
    {
     "name": "stdout",
     "output_type": "stream",
     "text": [
      "That’s an odd number.\n"
     ]
    }
   ],
   "source": [
    "# Ask for a number again\n",
    "number = int(input(\"Enter another number: \"))\n",
    "\n",
    "# Check even/odd AND whether it's over 100\n",
    "if number % 2 == 0 and number > 100:\n",
    "    print(\"That’s an even number greater than 100!\")\n",
    "elif number % 2 == 0:\n",
    "    print(\"That’s an even number.\")\n",
    "else:\n",
    "    print(\"That’s an odd number.\")\n"
   ]
  },
  {
   "cell_type": "code",
   "execution_count": null,
   "id": "fd14a5af-59e7-4aa5-b7ed-e862bf9d3840",
   "metadata": {},
   "outputs": [],
   "source": []
  }
 ],
 "metadata": {
  "kernelspec": {
   "display_name": "Python [conda env:base] *",
   "language": "python",
   "name": "conda-base-py"
  },
  "language_info": {
   "codemirror_mode": {
    "name": "ipython",
    "version": 3
   },
   "file_extension": ".py",
   "mimetype": "text/x-python",
   "name": "python",
   "nbconvert_exporter": "python",
   "pygments_lexer": "ipython3",
   "version": "3.12.7"
  }
 },
 "nbformat": 4,
 "nbformat_minor": 5
}
