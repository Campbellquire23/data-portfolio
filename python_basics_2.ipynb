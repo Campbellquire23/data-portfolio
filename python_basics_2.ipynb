{
 "cells": [
  {
   "cell_type": "code",
   "execution_count": 5,
   "id": "4efe0a49-4344-4700-ace2-a1c4ba60ed7c",
   "metadata": {},
   "outputs": [
    {
     "name": "stdout",
     "output_type": "stream",
     "text": [
      "Tools I plan to master: ['Excel', 'SQL', 'Tableau', 'Python']\n"
     ]
    }
   ],
   "source": [
    "tools = [\"Excel\", \"SQL\", \"Tableau\", \"Python\"]\n",
    "print(\"Tools I plan to master:\", tools)\n"
   ]
  },
  {
   "cell_type": "code",
   "execution_count": 2,
   "id": "7981aed1-12a9-46fc-83ef-13cf5c679d07",
   "metadata": {},
   "outputs": [
    {
     "name": "stdout",
     "output_type": "stream",
     "text": [
      "Updated tools list: ['Python', 'SQL', 'R']\n"
     ]
    }
   ],
   "source": [
    "tools = [\"Python\", \"SQL\"]  # Start by creating a list\n",
    "tools.append(\"R\")          # Then add \"R\" to it\n",
    "print(\"Updated tools list:\", tools)\n"
   ]
  },
  {
   "cell_type": "code",
   "execution_count": 3,
   "id": "09028e06-5ab9-42b6-a770-00c5f06cae94",
   "metadata": {},
   "outputs": [],
   "source": [
    "tool_ratings = {\n",
    "    \"Excel\": 7,\n",
    "    \"SQL\": 8,\n",
    "    \"Python\": 10,\n",
    "    \"Tableau\": 6,\n",
    "    \"R\": 5\n",
    "}\n"
   ]
  },
  {
   "cell_type": "code",
   "execution_count": 4,
   "id": "85a34695-b9ea-419d-9d28-d8fa1d878df1",
   "metadata": {},
   "outputs": [
    {
     "name": "stdout",
     "output_type": "stream",
     "text": [
      "Excel: 7/10\n",
      "SQL: 8/10\n",
      "Python: 10/10\n",
      "Tableau: 6/10\n",
      "R: 5/10\n"
     ]
    }
   ],
   "source": [
    "for tool, rating in tool_ratings.items():\n",
    "    print(f\"{tool}: {rating}/10\")\n",
    "\n"
   ]
  },
  {
   "cell_type": "code",
   "execution_count": null,
   "id": "30d045b7-a05b-40e7-8109-2087be6393a4",
   "metadata": {},
   "outputs": [],
   "source": []
  }
 ],
 "metadata": {
  "kernelspec": {
   "display_name": "Python [conda env:base] *",
   "language": "python",
   "name": "conda-base-py"
  },
  "language_info": {
   "codemirror_mode": {
    "name": "ipython",
    "version": 3
   },
   "file_extension": ".py",
   "mimetype": "text/x-python",
   "name": "python",
   "nbconvert_exporter": "python",
   "pygments_lexer": "ipython3",
   "version": "3.12.7"
  }
 },
 "nbformat": 4,
 "nbformat_minor": 5
}
