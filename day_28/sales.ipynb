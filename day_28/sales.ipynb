{
 "cells": [
  {
   "cell_type": "code",
   "execution_count": 1,
   "id": "44bdb372-4687-4c3f-8864-7241894de34c",
   "metadata": {},
   "outputs": [
    {
     "name": "stdout",
     "output_type": "stream",
     "text": [
      "Alex: $250\n",
      "Sam: $300\n",
      "Jamie: $200\n",
      "\n",
      "Total sales: $750\n"
     ]
    }
   ],
   "source": [
    "# Dictionary of sales by person\n",
    "sales = {\n",
    "    \"Alex\": 250,\n",
    "    \"Sam\": 300,\n",
    "    \"Jamie\": 200\n",
    "}\n",
    "\n",
    "# Total all sales\n",
    "total_sales = sum(sales.values())\n",
    "\n",
    "# Print each and total\n",
    "for person, amount in sales.items():\n",
    "    print(f\"{person}: ${amount}\")\n",
    "\n",
    "print(f\"\\nTotal sales: ${total_sales}\")\n"
   ]
  },
  {
   "cell_type": "code",
   "execution_count": null,
   "id": "14c89cd1-c1cb-43c2-8083-5e0e7a6c6bb6",
   "metadata": {},
   "outputs": [],
   "source": []
  }
 ],
 "metadata": {
  "kernelspec": {
   "display_name": "Python [conda env:base] *",
   "language": "python",
   "name": "conda-base-py"
  },
  "language_info": {
   "codemirror_mode": {
    "name": "ipython",
    "version": 3
   },
   "file_extension": ".py",
   "mimetype": "text/x-python",
   "name": "python",
   "nbconvert_exporter": "python",
   "pygments_lexer": "ipython3",
   "version": "3.12.7"
  }
 },
 "nbformat": 4,
 "nbformat_minor": 5
}
