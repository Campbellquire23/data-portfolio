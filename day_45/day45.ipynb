{
 "cells": [
  {
   "cell_type": "code",
   "execution_count": 1,
   "id": "3e1fc7f8-45ec-472b-b68b-2da721eb594f",
   "metadata": {},
   "outputs": [
    {
     "name": "stdout",
     "output_type": "stream",
     "text": [
      "{'name': 'Morgan', 'total': 900, 'average': 300.0}\n"
     ]
    }
   ],
   "source": [
    "def build_summary(name, sales):\n",
    "    total = sum(sales)\n",
    "    avg = total / len(sales)\n",
    "    return {\n",
    "        \"name\": name,\n",
    "        \"total\": total,\n",
    "        \"average\": round(avg, 2)\n",
    "    }\n",
    "\n",
    "# Try it\n",
    "summary = build_summary(\"Morgan\", [320, 280, 300])\n",
    "print(summary)\n"
   ]
  },
  {
   "cell_type": "code",
   "execution_count": null,
   "id": "148eec6d-097c-4d41-a3f9-9eebe1d80656",
   "metadata": {},
   "outputs": [],
   "source": []
  }
 ],
 "metadata": {
  "kernelspec": {
   "display_name": "Python [conda env:base] *",
   "language": "python",
   "name": "conda-base-py"
  },
  "language_info": {
   "codemirror_mode": {
    "name": "ipython",
    "version": 3
   },
   "file_extension": ".py",
   "mimetype": "text/x-python",
   "name": "python",
   "nbconvert_exporter": "python",
   "pygments_lexer": "ipython3",
   "version": "3.12.7"
  }
 },
 "nbformat": 4,
 "nbformat_minor": 5
}
