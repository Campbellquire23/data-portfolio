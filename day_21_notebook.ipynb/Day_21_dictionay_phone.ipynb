{
 "cells": [
  {
   "cell_type": "code",
   "execution_count": 1,
   "id": "15db5f03-d9b0-4e50-a19c-8598282b8ca8",
   "metadata": {},
   "outputs": [
    {
     "name": "stdout",
     "output_type": "stream",
     "text": [
      "Phone number is missing.\n"
     ]
    }
   ],
   "source": [
    "# Sample contact with missing phone number\n",
    "contact = {\n",
    "    \"name\": \"Taylor\",\n",
    "    \"email\": \"taylor@example.com\",\n",
    "    \"phone\": \"\"\n",
    "}\n",
    "\n",
    "# Check for missing info\n",
    "if contact[\"phone\"] == \"\":\n",
    "    print(\"Phone number is missing.\")\n",
    "else:\n",
    "    print(f\"Phone: {contact['phone']}\")\n"
   ]
  },
  {
   "cell_type": "code",
   "execution_count": 2,
   "id": "cc5bd2d4-50b1-4dfb-b1e6-24a4b8dd120c",
   "metadata": {},
   "outputs": [
    {
     "name": "stdout",
     "output_type": "stream",
     "text": [
      "Phone: 502-335-8798\n"
     ]
    }
   ],
   "source": [
    "# Sample contact with missing phone number\n",
    "contact = {\n",
    "    \"name\": \"Taylor\",\n",
    "    \"email\": \"taylor@example.com\",\n",
    "    \"phone\": \"502-335-8798\"\n",
    "}\n",
    "\n",
    "# Check for missing info\n",
    "if contact[\"phone\"] == \"\":\n",
    "    print(\"Phone number is missing.\")\n",
    "else:\n",
    "    print(f\"Phone: {contact['phone']}\")\n"
   ]
  },
  {
   "cell_type": "code",
   "execution_count": null,
   "id": "c0c24462-17a2-4d88-ac52-8ecde47196b3",
   "metadata": {},
   "outputs": [],
   "source": []
  }
 ],
 "metadata": {
  "kernelspec": {
   "display_name": "Python [conda env:base] *",
   "language": "python",
   "name": "conda-base-py"
  },
  "language_info": {
   "codemirror_mode": {
    "name": "ipython",
    "version": 3
   },
   "file_extension": ".py",
   "mimetype": "text/x-python",
   "name": "python",
   "nbconvert_exporter": "python",
   "pygments_lexer": "ipython3",
   "version": "3.12.7"
  }
 },
 "nbformat": 4,
 "nbformat_minor": 5
}
