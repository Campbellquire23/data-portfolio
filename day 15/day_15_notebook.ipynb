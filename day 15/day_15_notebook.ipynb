{
 "cells": [
  {
   "cell_type": "code",
   "execution_count": 1,
   "id": "2a026f2b-946a-4194-b162-a40bec4f4c30",
   "metadata": {},
   "outputs": [
    {
     "name": "stdin",
     "output_type": "stream",
     "text": [
      "What's your favorite color?  blue\n"
     ]
    },
    {
     "name": "stdout",
     "output_type": "stream",
     "text": [
      "Blue is calming!\n"
     ]
    }
   ],
   "source": [
    "# Ask the user for their favorite color\n",
    "color = input(\"What's your favorite color? \").lower()\n",
    "\n",
    "# Respond based on the color\n",
    "if color == \"blue\":\n",
    "    print(\"Blue is calming!\")\n",
    "elif color == \"red\":\n",
    "    print(\"Red is bold!\")\n",
    "elif color == \"green\":\n",
    "    print(\"Green is the color of growth!\")\n",
    "else:\n",
    "    print(f\"{color.capitalize()} is a nice choice!\")\n"
   ]
  },
  {
   "cell_type": "code",
   "execution_count": null,
   "id": "de96bfc6-f8fd-437d-9259-834e072c5e56",
   "metadata": {},
   "outputs": [],
   "source": []
  }
 ],
 "metadata": {
  "kernelspec": {
   "display_name": "Python [conda env:base] *",
   "language": "python",
   "name": "conda-base-py"
  },
  "language_info": {
   "codemirror_mode": {
    "name": "ipython",
    "version": 3
   },
   "file_extension": ".py",
   "mimetype": "text/x-python",
   "name": "python",
   "nbconvert_exporter": "python",
   "pygments_lexer": "ipython3",
   "version": "3.12.7"
  }
 },
 "nbformat": 4,
 "nbformat_minor": 5
}
