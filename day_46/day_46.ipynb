{
 "cells": [
  {
   "cell_type": "code",
   "execution_count": 1,
   "id": "0031e2e0-e27c-4dba-92c0-619e9a230163",
   "metadata": {},
   "outputs": [
    {
     "name": "stdout",
     "output_type": "stream",
     "text": [
      "{'name': 'Jordan', 'total': 900, 'average': 300.0}\n",
      "{'name': 'Avery', 'total': 750, 'average': 250.0}\n",
      "{'name': 'Riley', 'total': 1210, 'average': 403.33}\n"
     ]
    }
   ],
   "source": [
    "# Create multiple employee summaries\n",
    "def build_summary(name, sales):\n",
    "    total = sum(sales)\n",
    "    avg = total / len(sales)\n",
    "    return {\n",
    "        \"name\": name,\n",
    "        \"total\": total,\n",
    "        \"average\": round(avg, 2)\n",
    "    }\n",
    "\n",
    "# Build summaries\n",
    "summaries = [\n",
    "    build_summary(\"Jordan\", [300, 310, 290]),\n",
    "    build_summary(\"Avery\", [250, 240, 260]),\n",
    "    build_summary(\"Riley\", [400, 420, 390])\n",
    "]\n",
    "\n",
    "# Print each\n",
    "for summary in summaries:\n",
    "    print(summary)\n"
   ]
  },
  {
   "cell_type": "code",
   "execution_count": null,
   "id": "2b318b05-da3c-4788-b526-92525c668d8e",
   "metadata": {},
   "outputs": [],
   "source": []
  }
 ],
 "metadata": {
  "kernelspec": {
   "display_name": "Python [conda env:base] *",
   "language": "python",
   "name": "conda-base-py"
  },
  "language_info": {
   "codemirror_mode": {
    "name": "ipython",
    "version": 3
   },
   "file_extension": ".py",
   "mimetype": "text/x-python",
   "name": "python",
   "nbconvert_exporter": "python",
   "pygments_lexer": "ipython3",
   "version": "3.12.7"
  }
 },
 "nbformat": 4,
 "nbformat_minor": 5
}
