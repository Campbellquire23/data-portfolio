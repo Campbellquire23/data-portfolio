{
 "cells": [
  {
   "cell_type": "code",
   "execution_count": 1,
   "id": "701fa5a6-dcff-46a6-8ee2-9d1f34a5f061",
   "metadata": {},
   "outputs": [
    {
     "name": "stdin",
     "output_type": "stream",
     "text": [
      "Enter contact name:  campbell\n",
      "Enter contact email:  campbell.quire23@gmail.com\n",
      "Enter contact phone number:  5023828639\n"
     ]
    },
    {
     "name": "stdout",
     "output_type": "stream",
     "text": [
      "\n",
      "Saved Contact:\n",
      "Name: campbell\n",
      "Email: campbell.quire23@gmail.com\n",
      "Phone: 5023828639\n"
     ]
    }
   ],
   "source": [
    "# Create an empty dictionary\n",
    "contact = {}\n",
    "\n",
    "# Collect user input\n",
    "contact[\"name\"] = input(\"Enter contact name: \")\n",
    "contact[\"email\"] = input(\"Enter contact email: \")\n",
    "contact[\"phone\"] = input(\"Enter contact phone number: \")\n",
    "\n",
    "# Show the full dictionary\n",
    "print(\"\\nSaved Contact:\")\n",
    "for key, value in contact.items():\n",
    "    print(f\"{key.capitalize()}: {value}\")\n"
   ]
  },
  {
   "cell_type": "code",
   "execution_count": null,
   "id": "d40063c3-32c8-475d-8669-b24e6d074c3b",
   "metadata": {},
   "outputs": [],
   "source": []
  }
 ],
 "metadata": {
  "kernelspec": {
   "display_name": "Python [conda env:base] *",
   "language": "python",
   "name": "conda-base-py"
  },
  "language_info": {
   "codemirror_mode": {
    "name": "ipython",
    "version": 3
   },
   "file_extension": ".py",
   "mimetype": "text/x-python",
   "name": "python",
   "nbconvert_exporter": "python",
   "pygments_lexer": "ipython3",
   "version": "3.12.7"
  }
 },
 "nbformat": 4,
 "nbformat_minor": 5
}
