{
 "cells": [
  {
   "cell_type": "code",
   "execution_count": 1,
   "id": "a7f723f8-434a-4e44-9a1e-1d643a54a20d",
   "metadata": {},
   "outputs": [
    {
     "name": "stdin",
     "output_type": "stream",
     "text": [
      "Enter your monthly income:  5000\n",
      "Enter rent/mortgage:  1200\n",
      "Enter utilities:  550\n",
      "Enter groceries:  500\n",
      "Enter other expenses:  500\n"
     ]
    },
    {
     "name": "stdout",
     "output_type": "stream",
     "text": [
      "\n",
      "Total Expenses: $2750.0\n",
      "Remaining Balance: $2250.0\n",
      "Great! You're under budget.\n"
     ]
    }
   ],
   "source": [
    "# Simple Budget Calculator\n",
    "\n",
    "income = float(input(\"Enter your monthly income: \"))\n",
    "rent = float(input(\"Enter rent/mortgage: \"))\n",
    "utilities = float(input(\"Enter utilities: \"))\n",
    "groceries = float(input(\"Enter groceries: \"))\n",
    "other = float(input(\"Enter other expenses: \"))\n",
    "\n",
    "total_expenses = rent + utilities + groceries + other\n",
    "balance = income - total_expenses\n",
    "\n",
    "print(f\"\\nTotal Expenses: ${total_expenses}\")\n",
    "print(f\"Remaining Balance: ${balance}\")\n",
    "\n",
    "if balance > 0:\n",
    "    print(\"Great! You're under budget.\")\n",
    "elif balance == 0:\n",
    "    print(\"You've spent your entire budget.\")\n",
    "else:\n",
    "    print(\"You're over budget! Try cutting back.\")\n"
   ]
  },
  {
   "cell_type": "code",
   "execution_count": null,
   "id": "b3f476cc-707c-4255-aff5-49d82117372d",
   "metadata": {},
   "outputs": [],
   "source": []
  }
 ],
 "metadata": {
  "kernelspec": {
   "display_name": "Python [conda env:base] *",
   "language": "python",
   "name": "conda-base-py"
  },
  "language_info": {
   "codemirror_mode": {
    "name": "ipython",
    "version": 3
   },
   "file_extension": ".py",
   "mimetype": "text/x-python",
   "name": "python",
   "nbconvert_exporter": "python",
   "pygments_lexer": "ipython3",
   "version": "3.12.7"
  }
 },
 "nbformat": 4,
 "nbformat_minor": 5
}
