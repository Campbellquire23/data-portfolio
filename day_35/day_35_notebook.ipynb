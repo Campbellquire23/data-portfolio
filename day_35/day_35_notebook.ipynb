{
 "cells": [
  {
   "cell_type": "code",
   "execution_count": 1,
   "id": "d3d2ffa8-18d4-401a-a0d4-ffe0424b82ec",
   "metadata": {},
   "outputs": [
    {
     "name": "stdout",
     "output_type": "stream",
     "text": [
      "\n",
      "Website Redesign:\n",
      " - Alice\n",
      " - Tom\n",
      "\n",
      "Data Cleanup:\n",
      " - Ben\n",
      " - Nina\n",
      " - Lena\n",
      "\n",
      "Security Audit:\n",
      " - Sam\n"
     ]
    }
   ],
   "source": [
    "# Projects and assigned team members\n",
    "projects = {\n",
    "    \"Website Redesign\": [\"Alice\", \"Tom\"],\n",
    "    \"Data Cleanup\": [\"Ben\", \"Nina\", \"Lena\"],\n",
    "    \"Security Audit\": [\"Sam\"]\n",
    "}\n",
    "\n",
    "# Print project team assignments\n",
    "for project, team in projects.items():\n",
    "    print(f\"\\n{project}:\")\n",
    "    for member in team:\n",
    "        print(f\" - {member}\")\n"
   ]
  },
  {
   "cell_type": "code",
   "execution_count": null,
   "id": "893e0e1f-dfac-4ef6-92af-6f4d34aabcfb",
   "metadata": {},
   "outputs": [],
   "source": []
  }
 ],
 "metadata": {
  "kernelspec": {
   "display_name": "Python [conda env:base] *",
   "language": "python",
   "name": "conda-base-py"
  },
  "language_info": {
   "codemirror_mode": {
    "name": "ipython",
    "version": 3
   },
   "file_extension": ".py",
   "mimetype": "text/x-python",
   "name": "python",
   "nbconvert_exporter": "python",
   "pygments_lexer": "ipython3",
   "version": "3.12.7"
  }
 },
 "nbformat": 4,
 "nbformat_minor": 5
}
