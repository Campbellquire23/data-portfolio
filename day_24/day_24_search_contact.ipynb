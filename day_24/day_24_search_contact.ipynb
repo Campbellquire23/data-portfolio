{
 "cells": [
  {
   "cell_type": "code",
   "execution_count": 1,
   "id": "15754f7b-e1fc-44a8-9e5e-bac118a377aa",
   "metadata": {},
   "outputs": [
    {
     "name": "stdin",
     "output_type": "stream",
     "text": [
      "Enter a name to search for:  Alex\n"
     ]
    },
    {
     "name": "stdout",
     "output_type": "stream",
     "text": [
      "Found: Alex - alex@example.com\n"
     ]
    }
   ],
   "source": [
    "# List of contacts\n",
    "contacts = [\n",
    "    {\"name\": \"Alex\", \"email\": \"alex@example.com\"},\n",
    "    {\"name\": \"Sam\", \"email\": \"sam@example.com\"},\n",
    "    {\"name\": \"Jamie\", \"email\": \"jamie@example.com\"}\n",
    "]\n",
    "\n",
    "# Ask for a name to look for\n",
    "search_name = input(\"Enter a name to search for: \")\n",
    "\n",
    "# Search and print result\n",
    "found = False\n",
    "for contact in contacts:\n",
    "    if contact[\"name\"].lower() == search_name.lower():\n",
    "        print(f\"Found: {contact['name']} - {contact['email']}\")\n",
    "        found = True\n",
    "        break\n",
    "\n",
    "if not found:\n",
    "    print(\"Contact not found.\")\n"
   ]
  },
  {
   "cell_type": "code",
   "execution_count": null,
   "id": "31d7b26f-7f5e-4e26-bae7-d91d7e9b22f9",
   "metadata": {},
   "outputs": [],
   "source": []
  }
 ],
 "metadata": {
  "kernelspec": {
   "display_name": "Python [conda env:base] *",
   "language": "python",
   "name": "conda-base-py"
  },
  "language_info": {
   "codemirror_mode": {
    "name": "ipython",
    "version": 3
   },
   "file_extension": ".py",
   "mimetype": "text/x-python",
   "name": "python",
   "nbconvert_exporter": "python",
   "pygments_lexer": "ipython3",
   "version": "3.12.7"
  }
 },
 "nbformat": 4,
 "nbformat_minor": 5
}
