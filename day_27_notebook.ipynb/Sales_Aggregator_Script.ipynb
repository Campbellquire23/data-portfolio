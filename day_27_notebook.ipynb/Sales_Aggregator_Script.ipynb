{
 "cells": [
  {
   "cell_type": "code",
   "execution_count": 1,
   "id": "8036f93d-b150-4673-8c6a-b5281a9ca2b2",
   "metadata": {},
   "outputs": [
    {
     "name": "stdout",
     "output_type": "stream",
     "text": [
      "Total sales: $1375\n",
      "Average sales: $275.00\n"
     ]
    }
   ],
   "source": [
    "# List of weekly sales\n",
    "sales = [230, 150, 400, 320, 275]\n",
    "\n",
    "# Calculate total and average sales\n",
    "total_sales = sum(sales)\n",
    "average_sales = total_sales / len(sales)\n",
    "\n",
    "print(f\"Total sales: ${total_sales}\")\n",
    "print(f\"Average sales: ${average_sales:.2f}\")\n"
   ]
  },
  {
   "cell_type": "code",
   "execution_count": null,
   "id": "72d320b8-27f6-4951-9308-204bf7747956",
   "metadata": {},
   "outputs": [],
   "source": []
  }
 ],
 "metadata": {
  "kernelspec": {
   "display_name": "Python [conda env:base] *",
   "language": "python",
   "name": "conda-base-py"
  },
  "language_info": {
   "codemirror_mode": {
    "name": "ipython",
    "version": 3
   },
   "file_extension": ".py",
   "mimetype": "text/x-python",
   "name": "python",
   "nbconvert_exporter": "python",
   "pygments_lexer": "ipython3",
   "version": "3.12.7"
  }
 },
 "nbformat": 4,
 "nbformat_minor": 5
}
