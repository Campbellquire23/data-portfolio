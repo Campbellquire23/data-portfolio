{
 "cells": [
  {
   "cell_type": "code",
   "execution_count": 1,
   "id": "9f1e1ff2-6072-4c40-a27c-8cd7a445ece6",
   "metadata": {},
   "outputs": [
    {
     "name": "stdin",
     "output_type": "stream",
     "text": [
      "Enter name:  Campbell\n",
      "Enter email:  ccq90\n"
     ]
    },
    {
     "name": "stdout",
     "output_type": "stream",
     "text": [
      "\n",
      "Updated Contact List:\n",
      "Alex - alex@example.com\n",
      "Sam - sam@example.com\n",
      "Campbell - ccq90\n"
     ]
    }
   ],
   "source": [
    "# Existing list of contacts\n",
    "contacts = [\n",
    "    {\"name\": \"Alex\", \"email\": \"alex@example.com\"},\n",
    "    {\"name\": \"Sam\", \"email\": \"sam@example.com\"}\n",
    "]\n",
    "\n",
    "# Create a new contact\n",
    "new_contact = {\n",
    "    \"name\": input(\"Enter name: \"),\n",
    "    \"email\": input(\"Enter email: \")\n",
    "}\n",
    "\n",
    "# Add the new contact to the list\n",
    "contacts.append(new_contact)\n",
    "\n",
    "# Print updated list\n",
    "print(\"\\nUpdated Contact List:\")\n",
    "for contact in contacts:\n",
    "    print(f\"{contact['name']} - {contact['email']}\")\n"
   ]
  },
  {
   "cell_type": "code",
   "execution_count": null,
   "id": "3909fac2-af33-4c4c-aa8e-4b5fa43cc599",
   "metadata": {},
   "outputs": [],
   "source": []
  }
 ],
 "metadata": {
  "kernelspec": {
   "display_name": "Python [conda env:base] *",
   "language": "python",
   "name": "conda-base-py"
  },
  "language_info": {
   "codemirror_mode": {
    "name": "ipython",
    "version": 3
   },
   "file_extension": ".py",
   "mimetype": "text/x-python",
   "name": "python",
   "nbconvert_exporter": "python",
   "pygments_lexer": "ipython3",
   "version": "3.12.7"
  }
 },
 "nbformat": 4,
 "nbformat_minor": 5
}
