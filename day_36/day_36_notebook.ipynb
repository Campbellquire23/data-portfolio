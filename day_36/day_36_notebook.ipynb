{
 "cells": [
  {
   "cell_type": "code",
   "execution_count": 1,
   "id": "7266ae49-a2c4-477f-855d-ba280a553eab",
   "metadata": {},
   "outputs": [
    {
     "name": "stdout",
     "output_type": "stream",
     "text": [
      "T-shirt: 3\n",
      "Shoes: 1\n",
      "Hat: 3\n"
     ]
    }
   ],
   "source": [
    "# List of orders\n",
    "orders = [\n",
    "    {\"item\": \"T-shirt\", \"qty\": 2},\n",
    "    {\"item\": \"Shoes\", \"qty\": 1},\n",
    "    {\"item\": \"T-shirt\", \"qty\": 1},\n",
    "    {\"item\": \"Hat\", \"qty\": 3}\n",
    "]\n",
    "\n",
    "# Create summary dictionary\n",
    "summary = {}\n",
    "for order in orders:\n",
    "    item = order[\"item\"]\n",
    "    qty = order[\"qty\"]\n",
    "    if item in summary:\n",
    "        summary[item] += qty\n",
    "    else:\n",
    "        summary[item] = qty\n",
    "\n",
    "# Print summary\n",
    "for item, total in summary.items():\n",
    "    print(f\"{item}: {total}\")\n"
   ]
  },
  {
   "cell_type": "code",
   "execution_count": null,
   "id": "2abe8566-88a6-48b8-9cd5-fcf05c992c21",
   "metadata": {},
   "outputs": [],
   "source": []
  }
 ],
 "metadata": {
  "kernelspec": {
   "display_name": "Python [conda env:base] *",
   "language": "python",
   "name": "conda-base-py"
  },
  "language_info": {
   "codemirror_mode": {
    "name": "ipython",
    "version": 3
   },
   "file_extension": ".py",
   "mimetype": "text/x-python",
   "name": "python",
   "nbconvert_exporter": "python",
   "pygments_lexer": "ipython3",
   "version": "3.12.7"
  }
 },
 "nbformat": 4,
 "nbformat_minor": 5
}
