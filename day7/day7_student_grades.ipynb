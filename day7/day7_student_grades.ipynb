{
 "cells": [
  {
   "cell_type": "code",
   "execution_count": 1,
   "id": "0693e48a-3f0f-4e5c-9e68-450d37338973",
   "metadata": {},
   "outputs": [
    {
     "name": "stdout",
     "output_type": "stream",
     "text": [
      "Alice: Average = 88.33, Grade = B\n",
      "Bob: Average = 70.00, Grade = C\n",
      "Charlie: Average = 97.67, Grade = A\n",
      "Diana: Average = 61.00, Grade = D\n"
     ]
    }
   ],
   "source": [
    "# Sample data\n",
    "students = {\n",
    "    \"Alice\": [88, 92, 85],\n",
    "    \"Bob\": [72, 70, 68],\n",
    "    \"Charlie\": [95, 100, 98],\n",
    "    \"Diana\": [60, 65, 58]\n",
    "}\n",
    "\n",
    "# Function to calculate average and assign letter grade\n",
    "def calculate_grades(student_scores):\n",
    "    for name, scores in student_scores.items():\n",
    "        avg = sum(scores) / len(scores)\n",
    "        if avg >= 90:\n",
    "            grade = 'A'\n",
    "        elif avg >= 80:\n",
    "            grade = 'B'\n",
    "        elif avg >= 70:\n",
    "            grade = 'C'\n",
    "        elif avg >= 60:\n",
    "            grade = 'D'\n",
    "        else:\n",
    "            grade = 'F'\n",
    "        print(f\"{name}: Average = {avg:.2f}, Grade = {grade}\")\n",
    "\n",
    "# Call the function\n",
    "calculate_grades(students)\n"
   ]
  },
  {
   "cell_type": "code",
   "execution_count": null,
   "id": "3ce268af-03c1-439e-9002-f62bc20ff434",
   "metadata": {},
   "outputs": [],
   "source": []
  }
 ],
 "metadata": {
  "kernelspec": {
   "display_name": "Python [conda env:base] *",
   "language": "python",
   "name": "conda-base-py"
  },
  "language_info": {
   "codemirror_mode": {
    "name": "ipython",
    "version": 3
   },
   "file_extension": ".py",
   "mimetype": "text/x-python",
   "name": "python",
   "nbconvert_exporter": "python",
   "pygments_lexer": "ipython3",
   "version": "3.12.7"
  }
 },
 "nbformat": 4,
 "nbformat_minor": 5
}
