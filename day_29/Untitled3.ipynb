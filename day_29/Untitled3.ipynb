{
 "cells": [
  {
   "cell_type": "code",
   "execution_count": 1,
   "id": "e837ef0d-34e7-4997-844f-73d2103d7ec1",
   "metadata": {},
   "outputs": [
    {
     "name": "stdout",
     "output_type": "stream",
     "text": [
      "Monday: *****\n",
      "Tuesday: *******\n",
      "Wednesday: ***\n",
      "Thursday: ******\n",
      "Friday: ****\n"
     ]
    }
   ],
   "source": [
    "# Sales data\n",
    "sales = {\n",
    "    \"Monday\": 5,\n",
    "    \"Tuesday\": 7,\n",
    "    \"Wednesday\": 3,\n",
    "    \"Thursday\": 6,\n",
    "    \"Friday\": 4\n",
    "}\n",
    "\n",
    "# Print text bar chart\n",
    "for day, count in sales.items():\n",
    "    print(f\"{day}: {'*' * count}\")\n"
   ]
  },
  {
   "cell_type": "code",
   "execution_count": null,
   "id": "68a4bb2b-943c-4e96-9db8-731e1069a2e4",
   "metadata": {},
   "outputs": [],
   "source": []
  }
 ],
 "metadata": {
  "kernelspec": {
   "display_name": "Python [conda env:base] *",
   "language": "python",
   "name": "conda-base-py"
  },
  "language_info": {
   "codemirror_mode": {
    "name": "ipython",
    "version": 3
   },
   "file_extension": ".py",
   "mimetype": "text/x-python",
   "name": "python",
   "nbconvert_exporter": "python",
   "pygments_lexer": "ipython3",
   "version": "3.12.7"
  }
 },
 "nbformat": 4,
 "nbformat_minor": 5
}
