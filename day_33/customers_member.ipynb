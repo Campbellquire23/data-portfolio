{
 "cells": [
  {
   "cell_type": "code",
   "execution_count": 1,
   "id": "12b3ace1-25db-4237-b80b-51557a8fec7e",
   "metadata": {},
   "outputs": [
    {
     "name": "stdout",
     "output_type": "stream",
     "text": [
      "Anna is an adult member.\n",
      "Derek is an adult member.\n"
     ]
    }
   ],
   "source": [
    "# List of customer records\n",
    "customers = [\n",
    "    {\"name\": \"Anna\", \"age\": 28, \"member\": True},\n",
    "    {\"name\": \"Ben\", \"age\": 17, \"member\": True},\n",
    "    {\"name\": \"Cara\", \"age\": 22, \"member\": False},\n",
    "    {\"name\": \"Derek\", \"age\": 35, \"member\": True}\n",
    "]\n",
    "\n",
    "# Filter: must be 18+ and a member\n",
    "for cust in customers:\n",
    "    if cust[\"age\"] >= 18 and cust[\"member\"]:\n",
    "        print(f\"{cust['name']} is an adult member.\")\n"
   ]
  },
  {
   "cell_type": "code",
   "execution_count": null,
   "id": "255cad61-5f7d-43ec-84b1-78c04205ab3e",
   "metadata": {},
   "outputs": [],
   "source": []
  }
 ],
 "metadata": {
  "kernelspec": {
   "display_name": "Python [conda env:base] *",
   "language": "python",
   "name": "conda-base-py"
  },
  "language_info": {
   "codemirror_mode": {
    "name": "ipython",
    "version": 3
   },
   "file_extension": ".py",
   "mimetype": "text/x-python",
   "name": "python",
   "nbconvert_exporter": "python",
   "pygments_lexer": "ipython3",
   "version": "3.12.7"
  }
 },
 "nbformat": 4,
 "nbformat_minor": 5
}
