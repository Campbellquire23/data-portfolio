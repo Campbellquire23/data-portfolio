{
 "cells": [
  {
   "cell_type": "code",
   "execution_count": 1,
   "id": "2ab711fd-40ce-46f2-8d1c-164dafa3b621",
   "metadata": {},
   "outputs": [
    {
     "name": "stdout",
     "output_type": "stream",
     "text": [
      "Cleaned Sales Data:\n",
      "{'name': 'Jordan', 'total': 900}\n",
      "{'name': 'Riley', 'total': 1210}\n"
     ]
    }
   ],
   "source": [
    "# Raw summaries with some bad data\n",
    "raw_data = [\n",
    "    {\"name\": \"Jordan\", \"total\": 900},\n",
    "    {\"name\": \"Avery\", \"total\": None},\n",
    "    {\"name\": \"Riley\", \"total\": 1210},\n",
    "    {\"name\": \"Sam\", \"total\": \"error\"},\n",
    "    {\"name\": \"Lena\", \"total\": 0}\n",
    "]\n",
    "\n",
    "# Clean data: only include valid totals\n",
    "cleaned_data = []\n",
    "for summary in raw_data:\n",
    "    if isinstance(summary[\"total\"], (int, float)) and summary[\"total\"] > 0:\n",
    "        cleaned_data.append(summary)\n",
    "\n",
    "# Print results\n",
    "print(\"Cleaned Sales Data:\")\n",
    "for entry in cleaned_data:\n",
    "    print(entry)\n"
   ]
  },
  {
   "cell_type": "code",
   "execution_count": null,
   "id": "dedfad00-c243-441d-b1d7-340af68201be",
   "metadata": {},
   "outputs": [],
   "source": []
  }
 ],
 "metadata": {
  "kernelspec": {
   "display_name": "Python [conda env:base] *",
   "language": "python",
   "name": "conda-base-py"
  },
  "language_info": {
   "codemirror_mode": {
    "name": "ipython",
    "version": 3
   },
   "file_extension": ".py",
   "mimetype": "text/x-python",
   "name": "python",
   "nbconvert_exporter": "python",
   "pygments_lexer": "ipython3",
   "version": "3.12.7"
  }
 },
 "nbformat": 4,
 "nbformat_minor": 5
}
