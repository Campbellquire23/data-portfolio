{
 "cells": [
  {
   "cell_type": "code",
   "execution_count": 1,
   "id": "428ad2d1-6780-494a-87da-37b9a6375d57",
   "metadata": {},
   "outputs": [
    {
     "name": "stdout",
     "output_type": "stream",
     "text": [
      "Product X: ######## (8)\n",
      "Product Y: ##### (5)\n",
      "Product Z: ########## (10)\n"
     ]
    }
   ],
   "source": [
    "# Weekly product sales\n",
    "sales = {\n",
    "    \"Product X\": 8,\n",
    "    \"Product Y\": 5,\n",
    "    \"Product Z\": 10\n",
    "}\n",
    "\n",
    "# Display bar chart with counts\n",
    "for product, count in sales.items():\n",
    "    print(f\"{product}: {'#' * count} ({count})\")\n"
   ]
  },
  {
   "cell_type": "code",
   "execution_count": null,
   "id": "87b4068f-54c3-4537-939a-bf09cdf9f84f",
   "metadata": {},
   "outputs": [],
   "source": []
  }
 ],
 "metadata": {
  "kernelspec": {
   "display_name": "Python [conda env:base] *",
   "language": "python",
   "name": "conda-base-py"
  },
  "language_info": {
   "codemirror_mode": {
    "name": "ipython",
    "version": 3
   },
   "file_extension": ".py",
   "mimetype": "text/x-python",
   "name": "python",
   "nbconvert_exporter": "python",
   "pygments_lexer": "ipython3",
   "version": "3.12.7"
  }
 },
 "nbformat": 4,
 "nbformat_minor": 5
}
