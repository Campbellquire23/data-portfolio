{
 "cells": [
  {
   "cell_type": "code",
   "execution_count": 1,
   "id": "70ec19b2-b32f-4010-b4d8-21e0fd494246",
   "metadata": {},
   "outputs": [
    {
     "name": "stdout",
     "output_type": "stream",
     "text": [
      "Alice works in IT.\n",
      "Charlie works in IT.\n"
     ]
    }
   ],
   "source": [
    "# List of employee records\n",
    "employees = [\n",
    "    {\"name\": \"Alice\", \"dept\": \"IT\"},\n",
    "    {\"name\": \"Bob\", \"dept\": \"HR\"},\n",
    "    {\"name\": \"Charlie\", \"dept\": \"IT\"},\n",
    "    {\"name\": \"Diana\", \"dept\": \"Finance\"}\n",
    "]\n",
    "\n",
    "# Filter IT department employees\n",
    "for emp in employees:\n",
    "    if emp[\"dept\"] == \"IT\":\n",
    "        print(f\"{emp['name']} works in IT.\")\n"
   ]
  },
  {
   "cell_type": "code",
   "execution_count": null,
   "id": "adbf8af5-4687-4229-9f8a-c5c4eb1a89cd",
   "metadata": {},
   "outputs": [],
   "source": []
  }
 ],
 "metadata": {
  "kernelspec": {
   "display_name": "Python [conda env:base] *",
   "language": "python",
   "name": "conda-base-py"
  },
  "language_info": {
   "codemirror_mode": {
    "name": "ipython",
    "version": 3
   },
   "file_extension": ".py",
   "mimetype": "text/x-python",
   "name": "python",
   "nbconvert_exporter": "python",
   "pygments_lexer": "ipython3",
   "version": "3.12.7"
  }
 },
 "nbformat": 4,
 "nbformat_minor": 5
}
