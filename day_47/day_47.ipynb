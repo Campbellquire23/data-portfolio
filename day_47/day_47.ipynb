{
 "cells": [
  {
   "cell_type": "code",
   "execution_count": 1,
   "id": "dfa6bd62-0372-4e24-a786-b5cb57c6b31e",
   "metadata": {},
   "outputs": [
    {
     "name": "stdout",
     "output_type": "stream",
     "text": [
      "Jordan exceeded target with $900 in sales.\n",
      "Riley exceeded target with $1210 in sales.\n"
     ]
    }
   ],
   "source": [
    "# List of sales summaries\n",
    "summaries = [\n",
    "    {\"name\": \"Jordan\", \"total\": 900, \"average\": 300},\n",
    "    {\"name\": \"Avery\", \"total\": 750, \"average\": 250},\n",
    "    {\"name\": \"Riley\", \"total\": 1210, \"average\": 403.33}\n",
    "]\n",
    "\n",
    "# Print summaries with totals over 800\n",
    "for summary in summaries:\n",
    "    if summary[\"total\"] > 800:\n",
    "        print(f\"{summary['name']} exceeded target with ${summary['total']} in sales.\")\n"
   ]
  },
  {
   "cell_type": "code",
   "execution_count": null,
   "id": "ad9772b0-7069-4f46-aa4c-e0799b4c8784",
   "metadata": {},
   "outputs": [],
   "source": []
  }
 ],
 "metadata": {
  "kernelspec": {
   "display_name": "Python [conda env:base] *",
   "language": "python",
   "name": "conda-base-py"
  },
  "language_info": {
   "codemirror_mode": {
    "name": "ipython",
    "version": 3
   },
   "file_extension": ".py",
   "mimetype": "text/x-python",
   "name": "python",
   "nbconvert_exporter": "python",
   "pygments_lexer": "ipython3",
   "version": "3.12.7"
  }
 },
 "nbformat": 4,
 "nbformat_minor": 5
}
