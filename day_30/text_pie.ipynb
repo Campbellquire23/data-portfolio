{
 "cells": [
  {
   "cell_type": "code",
   "execution_count": 1,
   "id": "c665672a-7c77-41e6-882e-6a49885af082",
   "metadata": {},
   "outputs": [
    {
     "name": "stdout",
     "output_type": "stream",
     "text": [
      "Option A: ooo\n",
      "Option B: ooooo\n",
      "Option C: oo\n"
     ]
    }
   ],
   "source": [
    "# Simulated survey results\n",
    "choices = {\n",
    "    \"Option A\": 3,\n",
    "    \"Option B\": 5,\n",
    "    \"Option C\": 2\n",
    "}\n",
    "\n",
    "# Display text-based slice representation\n",
    "for option, count in choices.items():\n",
    "    print(f\"{option}: {'o' * count}\")\n"
   ]
  },
  {
   "cell_type": "code",
   "execution_count": null,
   "id": "112c7c9f-a7ee-4b04-b100-8bc753d5a3e9",
   "metadata": {},
   "outputs": [],
   "source": []
  }
 ],
 "metadata": {
  "kernelspec": {
   "display_name": "Python [conda env:base] *",
   "language": "python",
   "name": "conda-base-py"
  },
  "language_info": {
   "codemirror_mode": {
    "name": "ipython",
    "version": 3
   },
   "file_extension": ".py",
   "mimetype": "text/x-python",
   "name": "python",
   "nbconvert_exporter": "python",
   "pygments_lexer": "ipython3",
   "version": "3.12.7"
  }
 },
 "nbformat": 4,
 "nbformat_minor": 5
}
