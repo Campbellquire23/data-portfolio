{
 "cells": [
  {
   "cell_type": "code",
   "execution_count": 1,
   "id": "baa64352-f310-4a05-bdad-c3d62b5c8cef",
   "metadata": {},
   "outputs": [
    {
     "name": "stdin",
     "output_type": "stream",
     "text": [
      "Enter a category (or type 'done' to finish):  food\n",
      "Enter the amount spent on food:  3.00\n",
      "Enter a category (or type 'done' to finish):  done\n"
     ]
    },
    {
     "name": "stdout",
     "output_type": "stream",
     "text": [
      "\n",
      "--- Budget Summary ---\n",
      "food: $3.00\n"
     ]
    }
   ],
   "source": [
    "budget = {}\n",
    "while True:\n",
    "    category = input(\"Enter a category (or type 'done' to finish): \")\n",
    "    if category.lower() == 'done':\n",
    "        break\n",
    "    amount = float(input(f\"Enter the amount spent on {category}: \"))\n",
    "    budget[category] = budget.get(category, 0) + amount\n",
    "\n",
    "print(\"\\n--- Budget Summary ---\")\n",
    "for category, total in budget.items():\n",
    "    print(f\"{category}: ${total:.2f}\")\n"
   ]
  },
  {
   "cell_type": "code",
   "execution_count": null,
   "id": "c7580914-325b-4412-8b92-25fa66901d4d",
   "metadata": {},
   "outputs": [],
   "source": []
  }
 ],
 "metadata": {
  "kernelspec": {
   "display_name": "Python [conda env:base] *",
   "language": "python",
   "name": "conda-base-py"
  },
  "language_info": {
   "codemirror_mode": {
    "name": "ipython",
    "version": 3
   },
   "file_extension": ".py",
   "mimetype": "text/x-python",
   "name": "python",
   "nbconvert_exporter": "python",
   "pygments_lexer": "ipython3",
   "version": "3.12.7"
  }
 },
 "nbformat": 4,
 "nbformat_minor": 5
}
